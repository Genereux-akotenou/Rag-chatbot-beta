{
 "cells": [
  {
   "cell_type": "markdown",
   "id": "50257073-c680-4ea3-876f-c34ced250c5c",
   "metadata": {},
   "source": [
    "<div style=\"background-color: #d8d8d8; padding: 1.3em; color: black;\">\n",
    "<b>TEXT-MINING PROJECT</b>: UM6P RAG ASSISTED CHATBOT\n",
    "</div>\n",
    "\n",
    "---"
   ]
  },
  {
   "cell_type": "markdown",
   "id": "760b9031-f5dd-46cb-8156-7c7164372222",
   "metadata": {},
   "source": [
    "<div style=\"background-color: #d54f2b;padding: 1em; color: white;\">\n",
    "<b>Part IV</b>: Plug LLM To Retrieved vector to generate response\n",
    "</div>"
   ]
  },
  {
   "cell_type": "markdown",
   "id": "da8c068e-bad5-414a-a1c5-b5bfb45fbf84",
   "metadata": {},
   "source": [
    "### Start Chatbot Interface"
   ]
  },
  {
   "cell_type": "markdown",
   "id": "dbceeee1-5139-405d-b015-dbaf343eba9c",
   "metadata": {},
   "source": [
    "- Start Llama3"
   ]
  },
  {
   "cell_type": "code",
   "execution_count": 1,
   "id": "3ac3333b-38a5-4d1a-9d45-63cf6976013d",
   "metadata": {
    "scrolled": true
   },
   "outputs": [],
   "source": [
    "#!cd DEV-UI ;docker compose up -d"
   ]
  },
  {
   "cell_type": "markdown",
   "id": "fe132f26-30c3-4968-b80a-4132f9b6f99f",
   "metadata": {},
   "source": [
    "- Install requiement"
   ]
  },
  {
   "cell_type": "code",
   "execution_count": 2,
   "id": "4b522847-5ed7-4ff1-9871-103ba0a30a3a",
   "metadata": {},
   "outputs": [
    {
     "name": "stdout",
     "output_type": "stream",
     "text": [
      "Requirement already satisfied: flask in /opt/anaconda3/lib/python3.11/site-packages (2.3.3)\n",
      "Requirement already satisfied: Werkzeug>=2.3.7 in /opt/anaconda3/lib/python3.11/site-packages (from flask) (3.0.4)\n",
      "Requirement already satisfied: Jinja2>=3.1.2 in /opt/anaconda3/lib/python3.11/site-packages (from flask) (3.1.4)\n",
      "Requirement already satisfied: itsdangerous>=2.1.2 in /opt/anaconda3/lib/python3.11/site-packages (from flask) (2.2.0)\n",
      "Requirement already satisfied: click>=8.1.3 in /opt/anaconda3/lib/python3.11/site-packages (from flask) (8.1.7)\n",
      "Requirement already satisfied: blinker>=1.6.2 in /opt/anaconda3/lib/python3.11/site-packages (from flask) (1.8.1)\n",
      "Requirement already satisfied: MarkupSafe>=2.0 in /opt/anaconda3/lib/python3.11/site-packages (from Jinja2>=3.1.2->flask) (2.1.5)\n",
      "\n",
      "\u001b[1m[\u001b[0m\u001b[34;49mnotice\u001b[0m\u001b[1;39;49m]\u001b[0m\u001b[39;49m A new release of pip is available: \u001b[0m\u001b[31;49m24.2\u001b[0m\u001b[39;49m -> \u001b[0m\u001b[32;49m24.3.1\u001b[0m\n",
      "\u001b[1m[\u001b[0m\u001b[34;49mnotice\u001b[0m\u001b[1;39;49m]\u001b[0m\u001b[39;49m To update, run: \u001b[0m\u001b[32;49mpip install --upgrade pip\u001b[0m\n",
      "Note: you may need to restart the kernel to use updated packages.\n"
     ]
    }
   ],
   "source": [
    "pip install flask"
   ]
  },
  {
   "cell_type": "code",
   "execution_count": 3,
   "id": "4e913c83-3534-4c9f-9fbb-3c2281b92bba",
   "metadata": {},
   "outputs": [
    {
     "name": "stdout",
     "output_type": "stream",
     "text": [
      " * Serving Flask app 'app'\n",
      " * Debug mode: on\n",
      "Address already in use\n",
      "Port 5000 is in use by another program. Either identify and stop that program, or start the server with a different port.\n",
      "On macOS, try disabling the 'AirPlay Receiver' service from System Preferences -> General -> AirDrop & Handoff.\n"
     ]
    }
   ],
   "source": [
    "!python DEV-UI/app.py"
   ]
  },
  {
   "cell_type": "code",
   "execution_count": null,
   "id": "0ac64cda-5d74-4ce3-bf3c-7e9606778d98",
   "metadata": {},
   "outputs": [],
   "source": [
    "# DONE WITH LOVE"
   ]
  }
 ],
 "metadata": {
  "kernelspec": {
   "display_name": "Python 3 (ipykernel)",
   "language": "python",
   "name": "python3"
  },
  "language_info": {
   "codemirror_mode": {
    "name": "ipython",
    "version": 3
   },
   "file_extension": ".py",
   "mimetype": "text/x-python",
   "name": "python",
   "nbconvert_exporter": "python",
   "pygments_lexer": "ipython3",
   "version": "3.11.8"
  }
 },
 "nbformat": 4,
 "nbformat_minor": 5
}
