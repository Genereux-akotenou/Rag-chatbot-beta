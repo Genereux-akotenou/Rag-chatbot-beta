{
 "cells": [
  {
   "attachments": {},
   "cell_type": "markdown",
   "metadata": {},
   "source": [
    "### **Data ingestion using langchain and chomeDB**"
   ]
  },
  {
   "cell_type": "code",
   "execution_count": 1,
   "metadata": {},
   "outputs": [],
   "source": [
    "#!pip install langchain\n",
    "#!pip install chromadb\n",
    "#!pip install transformers\n",
    "#!pip install -qU \"langchain-chroma>=0.1.2\"\n",
    "#!pip install scholarly\n",
    "#!pip install pdfkit\n",
    "#!pip install langchain pymupdf\n",
    "#!pip install -U langchain-community\n",
    "#!pip install --upgrade langchain chromadb\n",
    "#!pip install -qU langchain-huggingface"
   ]
  },
  {
   "cell_type": "markdown",
   "metadata": {},
   "source": [
    "### **Import dependencies**"
   ]
  },
  {
   "cell_type": "code",
   "execution_count": 2,
   "metadata": {},
   "outputs": [],
   "source": [
    "import os, requests, pdfkit, torch, chromadb\n",
    "\n",
    "from chromadb import Client\n",
    "from transformers import AutoTokenizer, AutoModel\n",
    "from langchain_chroma import Chroma\n",
    "from scholarly import scholarly\n",
    "from uuid import uuid4\n",
    "from tqdm import tqdm\n",
    "from langchain_core.documents import Document\n",
    "from pathlib import Path\n",
    "from langchain.document_loaders import PyMuPDFLoader"
   ]
  },
  {
   "cell_type": "markdown",
   "metadata": {},
   "source": [
    "### **Innital embedding and vectorDB**"
   ]
  },
  {
   "cell_type": "markdown",
   "metadata": {},
   "source": [
    "- Init chomeDB"
   ]
  },
  {
   "cell_type": "code",
   "execution_count": 3,
   "metadata": {},
   "outputs": [],
   "source": [
    "chroma_client = Client()"
   ]
  },
  {
   "cell_type": "markdown",
   "metadata": {},
   "source": [
    "- Initialize embedding model"
   ]
  },
  {
   "cell_type": "code",
   "execution_count": 4,
   "metadata": {},
   "outputs": [],
   "source": [
    "# Load a pre-trained transformer model for embeddings\n",
    "model_name = \"sentence-transformers/all-mpnet-base-v2\"\n",
    "tokenizer = AutoTokenizer.from_pretrained(model_name)\n",
    "model = AutoModel.from_pretrained(model_name)"
   ]
  },
  {
   "cell_type": "code",
   "execution_count": 16,
   "metadata": {},
   "outputs": [],
   "source": [
    "# Function to create embeddings\n",
    "from langchain.embeddings import HuggingFaceEmbeddings\n",
    "\n",
    "class EmbeddingFunction():\n",
    "    def __init__(self, model, tokenizer):\n",
    "        self.model = model\n",
    "        self.tokenizer = tokenizer\n",
    "\n",
    "    def embed_documents(self, texts):\n",
    "        inputs = self.tokenizer(texts, padding=True, truncation=True, return_tensors='pt')\n",
    "        with torch.no_grad():\n",
    "            embeddings = self.model(**inputs).last_hidden_state.mean(dim=1)\n",
    "        return embeddings.numpy()\n",
    "    \n",
    "    def embed_query(self, query):\n",
    "        inputs = self.tokenizer([query], padding=True, truncation=True, return_tensors='pt')\n",
    "        with torch.no_grad():\n",
    "            embedding = self.model(**inputs).last_hidden_state.mean(dim=1)\n",
    "        return embedding.numpy().squeeze()\n",
    "\n",
    "embedding_function = EmbeddingFunction(model=model, tokenizer=tokenizer)"
   ]
  },
  {
   "cell_type": "markdown",
   "metadata": {},
   "source": [
    "- Integrate chomaDB with langchain"
   ]
  },
  {
   "cell_type": "code",
   "execution_count": 17,
   "metadata": {},
   "outputs": [],
   "source": [
    "vector_store = Chroma(\n",
    "    collection_name=\"rag_4_researcher_collection\",\n",
    "    embedding_function=embedding_function,\n",
    "    persist_directory=\"../database/vector-db/\",\n",
    ")"
   ]
  },
  {
   "cell_type": "markdown",
   "metadata": {},
   "source": [
    "### **Fetch data**"
   ]
  },
  {
   "cell_type": "code",
   "execution_count": 7,
   "metadata": {},
   "outputs": [],
   "source": [
    "def download_pdf(url, title, output_dir=\"../database/document\"):\n",
    "    try:\n",
    "        os.makedirs(output_dir, exist_ok=True)\n",
    "        safe_title = \"\".join(c for c in title if c.isalnum() or c in (\" \", \"_\")).rstrip()\n",
    "        file_path = os.path.join(output_dir, f\"{safe_title}.pdf\")\n",
    "\n",
    "        response = requests.get(url, stream=True)\n",
    "        if response.status_code == 200 and 'application/pdf' in response.headers.get('Content-Type', ''):\n",
    "            with open(file_path, 'wb') as pdf_file:\n",
    "                for chunk in response.iter_content(chunk_size=1024):\n",
    "                    pdf_file.write(chunk)\n",
    "            print(f\"Downloaded: {file_path}\")\n",
    "            return True\n",
    "        else:\n",
    "            print(f\"Failed to download PDF from {url}\")\n",
    "            return False\n",
    "    except Exception as e:\n",
    "        print(f\"Error downloading {url}: {e}\")\n",
    "        return False\n",
    "\n",
    "def convert_webpage_to_pdf(url, output_dir=\"../database/documents\", filename=\"converted_page\"):\n",
    "    filename += str(uuid4()) + \".pdf\"\n",
    "    try:\n",
    "        os.makedirs(output_dir, exist_ok=True)\n",
    "        file_path = os.path.join(output_dir, filename)\n",
    "\n",
    "        # Convert webpage to PDF\n",
    "        pdfkit.from_url(url, file_path)\n",
    "        print(f\"PDF successfully saved at: {file_path}\")\n",
    "        return file_path\n",
    "    except Exception as e:\n",
    "        print(f\"Error converting URL to PDF: {e}\")\n",
    "        return str(e)\n",
    "\n",
    "\n",
    "def get_scholar_urls(query, max_results=10):\n",
    "    try:\n",
    "        # Search for the query\n",
    "        search_results = scholarly.search_pubs(query)\n",
    "        urls = []\n",
    "        count = 0\n",
    "\n",
    "        for result in search_results:\n",
    "            if count >= max_results:\n",
    "                break\n",
    "            count += 1\n",
    "\n",
    "            # Get the title and URL\n",
    "            title = result.get('bib', {}).get('title', 'No title available')\n",
    "            url = result.get('eprint_url') or result.get('pub_url') or 'No URL available'\n",
    "\n",
    "            if url != 'No URL available':\n",
    "                urls.append({\"title\": title, \"url\": url})\n",
    "\n",
    "        return urls\n",
    "    except Exception as e:\n",
    "        print(f\"An error occurred: {e}\")\n",
    "        return []"
   ]
  },
  {
   "cell_type": "code",
   "execution_count": 21,
   "metadata": {},
   "outputs": [
    {
     "name": "stderr",
     "output_type": "stream",
     "text": [
      "Scrapping ... : 1it [00:00,  2.26it/s]"
     ]
    },
    {
     "name": "stdout",
     "output_type": "stream",
     "text": [
      "Downloaded: ../database/document/GenoTEX A Benchmark for Evaluating LLMBased Exploration of Gene Expression Data in Alignment with Bioinformaticians.pdf\n"
     ]
    },
    {
     "name": "stderr",
     "output_type": "stream",
     "text": [
      "Scrapping ... : 2it [00:02,  1.65s/it]"
     ]
    },
    {
     "name": "stdout",
     "output_type": "stream",
     "text": [
      "Downloaded: ../database/document/Phenomics Assistant An Interface for LLMbased Biomedical Knowledge Graph Exploration.pdf\n"
     ]
    },
    {
     "name": "stderr",
     "output_type": "stream",
     "text": [
      "Scrapping ... : 3it [00:03,  1.34s/it]"
     ]
    },
    {
     "name": "stdout",
     "output_type": "stream",
     "text": [
      "Downloaded: ../database/document/GPGPT Large Language Model for GenePhenotype Mapping.pdf\n"
     ]
    },
    {
     "name": "stderr",
     "output_type": "stream",
     "text": [
      "Scrapping ... : 4it [00:07,  2.20s/it]"
     ]
    },
    {
     "name": "stdout",
     "output_type": "stream",
     "text": [
      "Downloaded: ../database/document/BioinfoBench A Simple Benchmark Framework for LLM Bioinformatics Skills Evaluation.pdf\n"
     ]
    },
    {
     "name": "stderr",
     "output_type": "stream",
     "text": [
      "Scrapping ... : 5it [00:11,  2.86s/it]"
     ]
    },
    {
     "name": "stdout",
     "output_type": "stream",
     "text": [
      "Downloaded: ../database/document/Leveraging genomic large language models to enhance causal genotypebrainclinical pathways in Alzheimers disease.pdf\n"
     ]
    },
    {
     "name": "stderr",
     "output_type": "stream",
     "text": [
      "Scrapping ... : 7it [00:16,  2.72s/it]"
     ]
    },
    {
     "name": "stdout",
     "output_type": "stream",
     "text": [
      "Downloaded: ../database/document/Genetic Transformer An Innovative Large Language Model Driven Approach for Rapid and Accurate Identification of Causative Variants in Rare Genetic Diseases.pdf\n"
     ]
    },
    {
     "name": "stderr",
     "output_type": "stream",
     "text": [
      "Scrapping ... : 8it [00:17,  2.16s/it]"
     ]
    },
    {
     "name": "stdout",
     "output_type": "stream",
     "text": [
      "Downloaded: ../database/document/An llmbased knowledge synthesis and scientific reasoning framework for biomedical discovery.pdf\n"
     ]
    },
    {
     "name": "stderr",
     "output_type": "stream",
     "text": [
      "Scrapping ... : 10it [00:20,  2.05s/it]"
     ]
    },
    {
     "name": "stdout",
     "output_type": "stream",
     "text": [
      "Downloaded: ../database/document/Geneverse A collection of Opensource Multimodal Large Language Models for Genomic and Proteomic Research.pdf\n"
     ]
    },
    {
     "name": "stderr",
     "output_type": "stream",
     "text": [
      "\n"
     ]
    }
   ],
   "source": [
    "search_term = \"LLM in genomics\"\n",
    "max_results = 10\n",
    "\n",
    "# Get search results\n",
    "results = get_scholar_urls(search_term, max_results=max_results)\n",
    "\n",
    "# Process each result\n",
    "for idx, article in tqdm(enumerate(results), desc=\"Scrapping ... \"):\n",
    "    title = article[\"title\"]\n",
    "    url = article[\"url\"]\n",
    "    #print(f\"{idx+1}. {title}\\nURL: {url}\\n\")\n",
    "\n",
    "    # Check if the URL points to a PDF\n",
    "    if \"/pdf/\" in url or url.endswith(\".pdf\"):\n",
    "        download_pdf(url, title)\n",
    "    # elif \"sciencedirect.com\" in url:\n",
    "    #     print(f\"Skipping ScienceDirect PDF download for now: {url}\")\n",
    "    #else:\n",
    "    #    convert_webpage_to_pdf(url, output_dir=\"../database/document\", filename=\"\")"
   ]
  },
  {
   "cell_type": "markdown",
   "metadata": {},
   "source": [
    "### **Extract Text from pdf**"
   ]
  },
  {
   "cell_type": "code",
   "execution_count": 8,
   "metadata": {},
   "outputs": [
    {
     "name": "stdout",
     "output_type": "stream",
     "text": [
      "Processed file: ../database/document/Genetic Transformer An Innovative Large Language Model Driven Approach for Rapid and Accurate Identification of Causative Variants in Rare Genetic Diseases.pdf\n",
      "Processed file: ../database/document/GenoTEX A Benchmark for Evaluating LLMBased Exploration of Gene Expression Data in Alignment with Bioinformaticians.pdf\n",
      "Processed file: ../database/document/Geneverse A collection of Opensource Multimodal Large Language Models for Genomic and Proteomic Research.pdf\n",
      "Processed file: ../database/document/Leveraging genomic large language models to enhance causal genotypebrainclinical pathways in Alzheimers disease.pdf\n",
      "Processed file: ../database/document/Phenomics Assistant An Interface for LLMbased Biomedical Knowledge Graph Exploration.pdf\n",
      "Processed file: ../database/document/GPGPT Large Language Model for GenePhenotype Mapping.pdf\n",
      "Processed file: ../database/document/An llmbased knowledge synthesis and scientific reasoning framework for biomedical discovery.pdf\n",
      "Processed file: ../database/document/BioinfoBench A Simple Benchmark Framework for LLM Bioinformatics Skills Evaluation.pdf\n",
      "Processed 174 documents.\n"
     ]
    }
   ],
   "source": [
    "directory_path = Path(\"../database/document\")\n",
    "pdf_files = directory_path.glob(\"*.pdf\")\n",
    "documents = []\n",
    "\n",
    "for file_path in pdf_files:\n",
    "    try:\n",
    "        loader = PyMuPDFLoader(file_path=str(file_path))\n",
    "        loaded_docs = loader.load()\n",
    "        documents.extend(loaded_docs)\n",
    "        print(f\"Processed file: {file_path}\")\n",
    "    except Exception as e:\n",
    "        print(f\"Failed to process {file_path}: {e}\")\n",
    "\n",
    "print(f\"Processed {len(documents)} documents.\")"
   ]
  },
  {
   "cell_type": "code",
   "execution_count": 9,
   "metadata": {},
   "outputs": [],
   "source": [
    "# for chunking we will see latter"
   ]
  },
  {
   "cell_type": "code",
   "execution_count": 10,
   "metadata": {},
   "outputs": [
    {
     "data": {
      "text/plain": [
       "dict_keys(['id', 'metadata', 'page_content', 'type'])"
      ]
     },
     "execution_count": 10,
     "metadata": {},
     "output_type": "execute_result"
    }
   ],
   "source": [
    "documents[0].model_dump().keys()"
   ]
  },
  {
   "cell_type": "code",
   "execution_count": 14,
   "metadata": {},
   "outputs": [
    {
     "data": {
      "text/plain": [
       "{'source': '../database/document/Geneverse A collection of Opensource Multimodal Large Language Models for Genomic and Proteomic Research.pdf',\n",
       " 'file_path': '../database/document/Geneverse A collection of Opensource Multimodal Large Language Models for Genomic and Proteomic Research.pdf',\n",
       " 'page': 7,\n",
       " 'total_pages': 17,\n",
       " 'format': 'PDF 1.5',\n",
       " 'title': '',\n",
       " 'author': '',\n",
       " 'subject': '',\n",
       " 'keywords': '',\n",
       " 'creator': 'LaTeX with hyperref',\n",
       " 'producer': 'pdfTeX-1.40.25',\n",
       " 'creationDate': 'D:20240625000512Z',\n",
       " 'modDate': 'D:20240625000512Z',\n",
       " 'trapped': ''}"
      ]
     },
     "execution_count": 14,
     "metadata": {},
     "output_type": "execute_result"
    }
   ],
   "source": [
    "documents[50].metadata"
   ]
  },
  {
   "cell_type": "code",
   "execution_count": 12,
   "metadata": {},
   "outputs": [
    {
     "data": {
      "text/plain": [
       "['c5b7db8b-8da2-485c-af22-a2e0851c4d15',\n",
       " '48d49738-80c1-445a-9d73-774ab8da9e1c',\n",
       " 'c5cb35fc-45a9-49eb-8f8a-0e325bb30d13',\n",
       " '78341470-3704-484d-8ce3-bf73c144afed',\n",
       " 'ed08836f-41ac-437a-9fea-cbda3b7c103b',\n",
       " 'a79e0eee-eee4-478f-bf32-d51c4a781460',\n",
       " '2c743f6f-d61b-4984-ab0c-9c71f044a7f8',\n",
       " 'd2faf862-0bec-4690-a6f5-8a932743b261',\n",
       " '020252a7-9e0d-4934-87ab-9bdb5ef83389',\n",
       " '88628658-112f-494f-8196-bc458a6594e3',\n",
       " '59e8eb3f-963f-4f09-be29-1656a6051f1c',\n",
       " '80133f0d-a6b5-441b-add5-8320a559558b',\n",
       " '2ae000d7-b49a-4694-b405-cfc37ae8b377',\n",
       " '153a886f-971f-49d0-a4e5-df45e2eae966',\n",
       " '7db99cca-9691-42a2-aeaa-ef6a32f339fa',\n",
       " '53a3cd0d-30c1-4790-940c-96fdd54136a4',\n",
       " '6533931a-dc1f-44bb-afc3-038b55b3e337',\n",
       " 'a38c65fe-0db2-4e57-a898-41cadf876891',\n",
       " '23823771-0503-48ea-a841-6f08af7f58fd',\n",
       " '474a92cc-a407-4c76-8b44-d82655950d4f',\n",
       " 'ca3d4a52-2628-4efb-a58d-6630bbfab748',\n",
       " 'da400d26-85d5-4b74-9e34-3dbbfbb4a846',\n",
       " 'd9312c01-b8c1-470a-a6b7-5bddf205bdb5',\n",
       " '8edb2088-0424-40a4-8dd7-02510eb92a9e',\n",
       " '6efc0424-182c-489f-bb09-a86d8a245d9e',\n",
       " '3a96f6f5-1470-43c6-b6e8-e94b92bb71ed',\n",
       " 'f1d63d40-2a3d-4869-bd59-13b9be6f718f',\n",
       " '6d1b2d85-804e-4a24-a467-8d184c9407cc',\n",
       " '0efa8cc7-09fa-4593-9297-6f8c00c849ac',\n",
       " '9e9bb737-4e0d-43ff-84a2-bac728264bd8',\n",
       " '25d2ee71-4f73-4d35-b53f-0505ff2e568b',\n",
       " '26bf40e8-f13d-482a-b777-fd04d626639d',\n",
       " '471459d6-0e21-4ab6-af2a-66bc9f63a2f2',\n",
       " '5e938e54-8537-4438-9fde-6ddebaffb05e',\n",
       " '04895a7e-89b8-4dfd-a95a-c5a1feaea28b',\n",
       " '4b977cab-c573-40e0-95dd-1451adeda4c9',\n",
       " 'bea65727-f89a-400f-bc0c-997795528cec',\n",
       " 'a25695b7-304a-4e6d-b7fd-757a5366190e',\n",
       " 'ee651b04-c161-41da-9044-e962014adf48',\n",
       " 'b7f8f3bc-bb35-4ca2-b406-d1cd9dd118f4',\n",
       " 'f395b5a0-3ba6-4aee-a967-0705ef537484',\n",
       " 'a33c2ef0-b7ea-44ea-be9a-e7d043635c5d',\n",
       " '1582305d-ac6f-452f-abdd-7968f937d997',\n",
       " 'cdd62469-6ee2-448d-9e96-7a4a141606fe',\n",
       " '53768c68-e7bf-44d8-a6c7-5f415956709b',\n",
       " '9fea2835-3d5f-4891-b2c9-4322121c5483',\n",
       " '5ec29712-9ed8-4f9a-a95a-a361892c41e0',\n",
       " '8749913f-35eb-469d-851d-068a71564e4c',\n",
       " 'e817ac6a-0fec-46ae-b1e1-b1781c186a41',\n",
       " '83b85d7f-e924-41c6-993d-1ea2ba1dd074',\n",
       " '82d70b8e-ed63-43ad-a8a6-08fe97d2ba4c',\n",
       " '302738c0-52a1-41d8-8826-32e39f59505d',\n",
       " 'c3fe432d-b1b7-4e9a-92a2-93cb11bf254a',\n",
       " 'fbf6d0f4-eac8-4ef8-b17f-0e94e32b593d',\n",
       " '271ddc84-93d5-4898-a6f3-5fda650c2995',\n",
       " 'bc9e205d-4579-4088-8478-2a7e71b58a0a',\n",
       " 'b524f1e0-0988-441b-baab-168dc141050e',\n",
       " 'e6f76620-6803-401f-8181-03441c738366',\n",
       " '56181df9-1cbc-4366-b639-1be077671305',\n",
       " '60c2e900-912b-4aef-84c6-38aecdd781e5',\n",
       " 'c5707945-1df6-4d97-9da2-faa446c205e0',\n",
       " 'b427e097-533b-4a7b-9b6e-04c15cc89eca',\n",
       " '32a40d30-1ba7-4f93-93f0-d75e017f0543',\n",
       " 'dd923d18-a628-413c-bc3c-68692e82e20e',\n",
       " 'bf82fba7-f485-425f-9d7f-a00c90517650',\n",
       " '13e021db-ee1a-4c90-bd9e-d9f3ddb300f9',\n",
       " 'c02a5588-c66d-4ac4-96a9-bd3a5e3e2870',\n",
       " '3a48b57b-e439-494f-af69-6557c96132b1',\n",
       " '6e0e1f7d-9ce2-466b-ab32-cb8369456771',\n",
       " 'dccb581e-b557-4639-afa4-9ebf9c5a88e1',\n",
       " 'd6261edb-0aea-4d30-94a9-f3d0b01c3287',\n",
       " '055b8ae3-de6c-421d-b7c8-0418f85fdaf6',\n",
       " '8c2ad7bd-d235-47b4-b29c-3f98471d3a73',\n",
       " '4aec9fa0-97b4-402f-b91b-5c816032688c',\n",
       " '3564c356-fd60-4156-b4bc-327596db948e',\n",
       " 'a9e25e13-402d-4918-ae8e-deb1ec7e9613',\n",
       " '2ccd01b7-adae-4fbb-93ac-04e16e843350',\n",
       " '32aa1811-ae1a-4577-b33f-d6dbd9ef89cb',\n",
       " '65603dd5-0fb2-434b-8e5d-e6b12f4bc7ef',\n",
       " 'bdd9c800-9d27-4eeb-8b27-42751a46a8db',\n",
       " '0af6cf6a-8ea6-4b28-8bbf-82d28d81ecee',\n",
       " 'b7903db6-0c13-496f-a8c8-c010c5dc4d5e',\n",
       " 'c89c1d30-7cf5-47a1-9a34-86ece95f68c4',\n",
       " 'a0306ea4-90db-4e66-b6fd-807518fa0f57',\n",
       " '1363b061-53c8-41e9-9fbf-df75e85b5f44',\n",
       " 'ae97f223-6487-40e1-bb4c-76f94b20521c',\n",
       " '762557cb-4b7b-41ae-a34b-f55ab1ee358e',\n",
       " 'bb5e60bd-d633-44ae-95f3-6750f85034ff',\n",
       " '60638ce4-e070-4f98-842f-b9db60c3d8bd',\n",
       " '37aba41d-af4a-466c-9a09-ccbe6c384626',\n",
       " 'f9ac1c54-0281-4c19-9cd0-e1a2471c86d0',\n",
       " '41e3325f-bbbd-4e1f-85a7-fe4fa7bbb6d4',\n",
       " 'c5839126-bea6-4fbf-a6cf-925fab56a23c',\n",
       " '7ad33e8e-df4c-4f41-8080-000da6c07f13',\n",
       " 'fb6b4ce2-0212-40dd-92af-81db357d188b',\n",
       " '315ce08f-68ff-4d23-b7e0-6a1e2c115401',\n",
       " '63f339f5-0a39-4901-a06d-eea873e637ad',\n",
       " '45150c78-fb12-4e03-bd74-7a8c84d9c500',\n",
       " '72da6829-5781-4863-94d0-dad3ed5bfd1b',\n",
       " '9e66fc7a-bd0d-4111-aa32-977d8a73ddd4',\n",
       " '7e338bf7-911e-4f2b-84a9-d531c74f880f',\n",
       " 'e5b92420-3d33-49ac-b887-0b8d2cf3aa92',\n",
       " '9aa4bafe-0d75-4d44-813f-a9ef0bc3bf3f',\n",
       " '895da8e9-04b4-4d11-84b3-3783cbd67035',\n",
       " 'a7206fdb-35c4-484e-8377-ff87cba67fcb',\n",
       " '8149622b-3135-44b9-b3f3-6331c4554b44',\n",
       " '7695e2ab-c1e7-46d7-b53f-f97766efa112',\n",
       " 'afe19498-8a8f-49b3-822b-dd13f201ae84',\n",
       " 'b4ec0437-22d4-41d2-b013-78b3d83cd0e9',\n",
       " '8d258559-891b-4770-bac2-47867f3cd0d1',\n",
       " '390304f3-d5e3-4387-88b0-2535ed023f41',\n",
       " '501f0321-d805-4711-a19f-38dd66cd0492',\n",
       " 'b6b6017b-abad-4652-99a2-5a34bde9aad0',\n",
       " 'f8cdc49a-fb56-42db-8214-b21be445e237',\n",
       " '6bd739fa-3d82-4d0c-aa35-8ff85aa4f0e0',\n",
       " 'f2d8cab3-aa09-4429-9ba6-df0de815d74f',\n",
       " 'f37bfed2-b398-4e41-8709-e944ef98a0dd',\n",
       " '77d98771-909a-4a18-b9cd-85b8a1325f46',\n",
       " 'fe269a91-27e6-4bdd-87b4-5a5a8942f560',\n",
       " '349c0cab-75f8-4f6d-9855-925630401503',\n",
       " '54c213b0-cbd5-4eb8-a237-d096e7d78e48',\n",
       " '4706ea94-a424-42e5-ab46-231302a54028',\n",
       " 'e638ca4c-a405-495a-8fc6-5b9ca0d2baa5',\n",
       " 'b40411fd-fd0e-43ee-9663-596c098e812a',\n",
       " 'a3673d7c-3669-4d04-818e-74d2b90b8c68',\n",
       " 'e76a2629-2162-41c1-8e38-3e95c76f59e3',\n",
       " '4a8b7c94-f627-48d5-84e5-f18247c3d7a6',\n",
       " 'fb86dc9b-e3e2-4164-b21c-37db604f4cee',\n",
       " 'b5c2198f-4b22-41f2-beaa-4ef07d9d1be0',\n",
       " '7abc80d2-41db-4d77-93b9-3da7c9e3a0ec',\n",
       " '333679fb-f1ed-4981-9a2e-b33b3f680c08',\n",
       " 'fd91d632-78a2-4837-9aec-6b0870053bb8',\n",
       " '36608201-716c-41fd-a890-93a8159d8efe',\n",
       " '8d544bd4-c369-4730-81a5-9c9a2b3b25bb',\n",
       " '624bbb6f-3f6c-4e1e-85af-2c5ed9fb2c50',\n",
       " 'd1b051ad-778e-4c69-a712-bbdf2d8278cf',\n",
       " 'be28f2e0-b51b-44e4-a920-a25aeeee037c',\n",
       " '0c35f234-8979-4f33-95ac-18548f147cec',\n",
       " '31947690-5db7-4b35-9c76-5c55bbd33334',\n",
       " '789dc042-b636-4959-84b2-cde5de9015e3',\n",
       " '38021687-de12-47ed-81c8-2dce19c81f18',\n",
       " '2ec93115-47d5-42cf-b897-a2fd37e84864',\n",
       " '2386ae10-caae-492d-a335-2187775b60e2',\n",
       " '8110b00b-cc68-4b5e-a7b3-738096129138',\n",
       " '436bae4d-03c6-4bfd-bf12-36d6a2e9d171',\n",
       " '88852e4e-648a-4297-9731-f5f28fed42bb',\n",
       " '61c8b3db-9521-4695-a0f8-d98829e9a300',\n",
       " '2dc19241-fbca-47a7-a5bc-d5c93b7f9d38',\n",
       " '4054c16a-2cf5-4d8a-8e21-e48e01f5d8c1',\n",
       " 'ed662a3a-c5a3-4746-b3d4-d2a720148e44',\n",
       " '7cc336ed-4076-4aef-811a-ca8374faf550',\n",
       " 'acacb2df-9c55-457e-85d5-9e4a8ff9845c',\n",
       " '4334d12e-a538-4f3e-a4fc-e8cce21ad2c4',\n",
       " 'c28398ae-59c8-4146-b3f2-646ee0f78dbd',\n",
       " '175f4cc9-7e18-493b-9ad1-5fc76eee230e',\n",
       " 'ff8462fa-5aae-418d-adee-d3fe6733e792',\n",
       " '8cf13a3f-ed90-4c1b-90a2-00212de17290',\n",
       " '279f00e6-c38f-4baa-93a2-065fc1ceaa91',\n",
       " 'c6abe260-4255-42cb-917b-2546d0e6e90b',\n",
       " 'e5e738b0-dada-4c8c-a2ce-e6b9851d4739',\n",
       " 'ccdc8fb7-c58e-456b-8458-6b112b4d7859',\n",
       " '8af9ca25-2eb9-4180-8924-0115e1c14fcb',\n",
       " '615d1ef7-e31c-49ee-8922-49b7b3f31e49',\n",
       " '1b3d4a4a-90ea-4d2e-8b4a-0237d0967a35',\n",
       " 'e9c838e6-8b49-4ade-81f6-607221c53785',\n",
       " '03d10840-a4a4-4900-8efe-5103e55d8335',\n",
       " '80bc513c-e506-4aee-b9b2-0c11fb732a47',\n",
       " '6b11fdde-ae19-40d5-8280-33341a5c9a04',\n",
       " '076b806a-2421-4ddb-abd4-e29257fdc878',\n",
       " '80211105-8069-4fa2-b153-13d3455c854f',\n",
       " '2b79d733-e7f7-4f21-8a06-c859791c8ee0',\n",
       " '8ff9b650-f8f3-4fc8-9dc0-eab1b4180d81',\n",
       " '2c6d7fd8-2ef0-415d-bc78-b0d1e76a0e30',\n",
       " '4afda38e-7e7e-4ac0-88b2-c4ec3b1e8504']"
      ]
     },
     "execution_count": 12,
     "metadata": {},
     "output_type": "execute_result"
    }
   ],
   "source": [
    "uuids = [str(uuid4()) for _ in range(len(documents))]\n",
    "vector_store.add_documents(documents=documents, ids=uuids)"
   ]
  },
  {
   "cell_type": "markdown",
   "metadata": {},
   "source": [
    "- similarity search"
   ]
  },
  {
   "cell_type": "code",
   "execution_count": 19,
   "metadata": {},
   "outputs": [
    {
     "name": "stdout",
     "output_type": "stream",
     "text": [
      "* [{'author': '', 'creationDate': 'D:20240624005248Z', 'creator': 'LaTeX with hyperref', 'file_path': '../database/document/GenoTEX A Benchmark for Evaluating LLMBased Exploration of Gene Expression Data in Alignment with Bioinformaticians.pdf', 'format': 'PDF 1.5', 'keywords': '', 'modDate': 'D:20240624005248Z', 'page': 7, 'producer': 'pdfTeX-1.40.25', 'source': '../database/document/GenoTEX A Benchmark for Evaluating LLMBased Exploration of Gene Expression Data in Alignment with Bioinformaticians.pdf', 'subject': '', 'title': '', 'total_pages': 25, 'trapped': ''}]\n",
      "* [{'author': '', 'creationDate': 'D:20240624005248Z', 'creator': 'LaTeX with hyperref', 'file_path': '../database/document/GenoTEX A Benchmark for Evaluating LLMBased Exploration of Gene Expression Data in Alignment with Bioinformaticians.pdf', 'format': 'PDF 1.5', 'keywords': '', 'modDate': 'D:20240624005248Z', 'page': 8, 'producer': 'pdfTeX-1.40.25', 'source': '../database/document/GenoTEX A Benchmark for Evaluating LLMBased Exploration of Gene Expression Data in Alignment with Bioinformaticians.pdf', 'subject': '', 'title': '', 'total_pages': 25, 'trapped': ''}]\n"
     ]
    }
   ],
   "source": [
    "results = vector_store.similarity_search(\n",
    "    \"LLM for genes prediction\",\n",
    "    k=2,\n",
    "    #filter={\"source\": \"tweet\"},\n",
    ")\n",
    "for res in results:\n",
    "    #print(f\"* {res.page_content} [{res.metadata}]\")\n",
    "    print(f\"* [{res.metadata}]\")"
   ]
  },
  {
   "cell_type": "code",
   "execution_count": 20,
   "metadata": {},
   "outputs": [
    {
     "name": "stderr",
     "output_type": "stream",
     "text": [
      "huggingface/tokenizers: The current process just got forked, after parallelism has already been used. Disabling parallelism to avoid deadlocks...\n",
      "To disable this warning, you can either:\n",
      "\t- Avoid using `tokenizers` before the fork if possible\n",
      "\t- Explicitly set the environment variable TOKENIZERS_PARALLELISM=(true | false)\n"
     ]
    },
    {
     "name": "stdout",
     "output_type": "stream",
     "text": [
      "Collecting ollama\n",
      "  Downloading ollama-0.4.0-py3-none-any.whl.metadata (4.8 kB)\n",
      "Requirement already satisfied: httpx<0.28.0,>=0.27.0 in /opt/anaconda3/envs/pygenomics/lib/python3.11/site-packages (from ollama) (0.27.0)\n",
      "Requirement already satisfied: pydantic<3.0.0,>=2.9.0 in /opt/anaconda3/envs/pygenomics/lib/python3.11/site-packages (from ollama) (2.10.0)\n",
      "Requirement already satisfied: anyio in /opt/anaconda3/envs/pygenomics/lib/python3.11/site-packages (from httpx<0.28.0,>=0.27.0->ollama) (4.4.0)\n",
      "Requirement already satisfied: certifi in /opt/anaconda3/envs/pygenomics/lib/python3.11/site-packages (from httpx<0.28.0,>=0.27.0->ollama) (2024.7.4)\n",
      "Requirement already satisfied: httpcore==1.* in /opt/anaconda3/envs/pygenomics/lib/python3.11/site-packages (from httpx<0.28.0,>=0.27.0->ollama) (1.0.5)\n",
      "Requirement already satisfied: idna in /opt/anaconda3/envs/pygenomics/lib/python3.11/site-packages (from httpx<0.28.0,>=0.27.0->ollama) (3.7)\n",
      "Requirement already satisfied: sniffio in /opt/anaconda3/envs/pygenomics/lib/python3.11/site-packages (from httpx<0.28.0,>=0.27.0->ollama) (1.3.1)\n",
      "Requirement already satisfied: h11<0.15,>=0.13 in /opt/anaconda3/envs/pygenomics/lib/python3.11/site-packages (from httpcore==1.*->httpx<0.28.0,>=0.27.0->ollama) (0.14.0)\n",
      "Requirement already satisfied: annotated-types>=0.6.0 in /opt/anaconda3/envs/pygenomics/lib/python3.11/site-packages (from pydantic<3.0.0,>=2.9.0->ollama) (0.7.0)\n",
      "Requirement already satisfied: pydantic-core==2.27.0 in /opt/anaconda3/envs/pygenomics/lib/python3.11/site-packages (from pydantic<3.0.0,>=2.9.0->ollama) (2.27.0)\n",
      "Requirement already satisfied: typing-extensions>=4.12.2 in /opt/anaconda3/envs/pygenomics/lib/python3.11/site-packages (from pydantic<3.0.0,>=2.9.0->ollama) (4.12.2)\n",
      "Downloading ollama-0.4.0-py3-none-any.whl (12 kB)\n",
      "Installing collected packages: ollama\n",
      "Successfully installed ollama-0.4.0\n"
     ]
    }
   ],
   "source": [
    "!pip install ollama"
   ]
  },
  {
   "cell_type": "code",
   "execution_count": null,
   "metadata": {},
   "outputs": [],
   "source": [
    "# END"
   ]
  }
 ],
 "metadata": {
  "kernelspec": {
   "display_name": "base",
   "language": "python",
   "name": "python3"
  },
  "language_info": {
   "codemirror_mode": {
    "name": "ipython",
    "version": 3
   },
   "file_extension": ".py",
   "mimetype": "text/x-python",
   "name": "python",
   "nbconvert_exporter": "python",
   "pygments_lexer": "ipython3",
   "version": "3.11.7"
  },
  "orig_nbformat": 4
 },
 "nbformat": 4,
 "nbformat_minor": 2
}
