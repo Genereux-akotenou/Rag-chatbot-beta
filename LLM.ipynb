{
 "cells": [
  {
   "cell_type": "markdown",
   "id": "50257073-c680-4ea3-876f-c34ced250c5c",
   "metadata": {},
   "source": [
    "<div style=\"background-color: #d8d8d8; padding: 1.3em; color: black;\">\n",
    "<b>TEXT-MINING PROJECT</b>: UM6P RAG ASSISTED CHATBOT\n",
    "</div>\n",
    "\n",
    "---"
   ]
  },
  {
   "cell_type": "markdown",
   "id": "760b9031-f5dd-46cb-8156-7c7164372222",
   "metadata": {},
   "source": [
    "<div style=\"background-color: #d54f2b;padding: 1em; color: white;\">\n",
    "<b>Part IV</b>: Plug LLM To Retrieved vector to generate response\n",
    "</div>"
   ]
  },
  {
   "cell_type": "markdown",
   "id": "da8c068e-bad5-414a-a1c5-b5bfb45fbf84",
   "metadata": {},
   "source": [
    "### Start Chatbot Interface"
   ]
  },
  {
   "cell_type": "code",
   "execution_count": 1,
   "id": "3ac3333b-38a5-4d1a-9d45-63cf6976013d",
   "metadata": {
    "scrolled": true
   },
   "outputs": [],
   "source": [
    "#!cd 01-CHATBOT ;docker compose up -d"
   ]
  },
  {
   "cell_type": "code",
   "execution_count": 2,
   "id": "4b522847-5ed7-4ff1-9871-103ba0a30a3a",
   "metadata": {},
   "outputs": [
    {
     "name": "stdout",
     "output_type": "stream",
     "text": [
      "Requirement already satisfied: flask in /opt/anaconda3/lib/python3.11/site-packages (2.3.3)\n",
      "Requirement already satisfied: Werkzeug>=2.3.7 in /opt/anaconda3/lib/python3.11/site-packages (from flask) (3.0.4)\n",
      "Requirement already satisfied: Jinja2>=3.1.2 in /opt/anaconda3/lib/python3.11/site-packages (from flask) (3.1.4)\n",
      "Requirement already satisfied: itsdangerous>=2.1.2 in /opt/anaconda3/lib/python3.11/site-packages (from flask) (2.2.0)\n",
      "Requirement already satisfied: click>=8.1.3 in /opt/anaconda3/lib/python3.11/site-packages (from flask) (8.1.7)\n",
      "Requirement already satisfied: blinker>=1.6.2 in /opt/anaconda3/lib/python3.11/site-packages (from flask) (1.8.1)\n",
      "Requirement already satisfied: MarkupSafe>=2.0 in /opt/anaconda3/lib/python3.11/site-packages (from Jinja2>=3.1.2->flask) (2.1.5)\n",
      "\n",
      "\u001b[1m[\u001b[0m\u001b[34;49mnotice\u001b[0m\u001b[1;39;49m]\u001b[0m\u001b[39;49m A new release of pip is available: \u001b[0m\u001b[31;49m24.2\u001b[0m\u001b[39;49m -> \u001b[0m\u001b[32;49m24.3.1\u001b[0m\n",
      "\u001b[1m[\u001b[0m\u001b[34;49mnotice\u001b[0m\u001b[1;39;49m]\u001b[0m\u001b[39;49m To update, run: \u001b[0m\u001b[32;49mpip install --upgrade pip\u001b[0m\n",
      "Note: you may need to restart the kernel to use updated packages.\n"
     ]
    }
   ],
   "source": [
    "pip install flask"
   ]
  },
  {
   "cell_type": "code",
   "execution_count": null,
   "id": "4e913c83-3534-4c9f-9fbb-3c2281b92bba",
   "metadata": {},
   "outputs": [
    {
     "name": "stdout",
     "output_type": "stream",
     "text": [
      " * Serving Flask app 'app'\n",
      " * Debug mode: on\n",
      "\u001b[31m\u001b[1mWARNING: This is a development server. Do not use it in a production deployment. Use a production WSGI server instead.\u001b[0m\n",
      " * Running on http://127.0.0.1:5000\n",
      "\u001b[33mPress CTRL+C to quit\u001b[0m\n",
      " * Restarting with stat\n",
      " * Debugger is active!\n",
      "python(16050) MallocStackLogging: can't turn off malloc stack logging because it was not enabled.\n",
      " * Debugger PIN: 130-239-683\n",
      "127.0.0.1 - - [05/Nov/2024 01:07:05] \"GET / HTTP/1.1\" 200 -\n",
      "127.0.0.1 - - [05/Nov/2024 01:07:05] \"\u001b[36mGET /static/logo.png HTTP/1.1\u001b[0m\" 304 -\n",
      "127.0.0.1 - - [05/Nov/2024 01:07:05] \"\u001b[36mGET /static/styles.css HTTP/1.1\u001b[0m\" 304 -\n",
      "127.0.0.1 - - [05/Nov/2024 01:07:05] \"\u001b[36mGET /static/fond.webp HTTP/1.1\u001b[0m\" 304 -\n",
      "127.0.0.1 - - [05/Nov/2024 01:07:29] \"POST /chat HTTP/1.1\" 200 -\n",
      " * Detected change in '/Users/genereux/Documents/UM6P/COURS-S3/TEXT-MINING/Project/01-CHATBOT/app.py', reloading\n",
      " * Restarting with stat\n",
      " * Debugger is active!\n",
      " * Debugger PIN: 130-239-683\n",
      " * Detected change in '/Users/genereux/Documents/UM6P/COURS-S3/TEXT-MINING/Project/01-CHATBOT/app.py', reloading\n",
      " * Restarting with stat\n",
      " * Debugger is active!\n",
      "python(16371) MallocStackLogging: can't turn off malloc stack logging because it was not enabled.\n",
      " * Debugger PIN: 130-239-683\n",
      "127.0.0.1 - - [05/Nov/2024 01:11:09] \"GET / HTTP/1.1\" 200 -\n",
      "127.0.0.1 - - [05/Nov/2024 01:11:09] \"\u001b[36mGET /static/styles.css HTTP/1.1\u001b[0m\" 304 -\n",
      "127.0.0.1 - - [05/Nov/2024 01:11:09] \"\u001b[36mGET /static/logo.png HTTP/1.1\u001b[0m\" 304 -\n",
      "127.0.0.1 - - [05/Nov/2024 01:11:09] \"\u001b[36mGET /static/fond.webp HTTP/1.1\u001b[0m\" 304 -\n",
      "127.0.0.1 - - [05/Nov/2024 01:21:03] \"GET / HTTP/1.1\" 200 -\n",
      "127.0.0.1 - - [05/Nov/2024 01:21:03] \"\u001b[36mGET /static/logo.png HTTP/1.1\u001b[0m\" 304 -\n",
      "127.0.0.1 - - [05/Nov/2024 01:21:03] \"\u001b[36mGET /static/styles.css HTTP/1.1\u001b[0m\" 304 -\n",
      "127.0.0.1 - - [05/Nov/2024 01:21:03] \"\u001b[36mGET /static/fond.webp HTTP/1.1\u001b[0m\" 304 -\n",
      "127.0.0.1 - - [05/Nov/2024 01:21:23] \"POST /chat HTTP/1.1\" 200 -\n",
      "127.0.0.1 - - [05/Nov/2024 01:22:13] \"GET / HTTP/1.1\" 200 -\n",
      "127.0.0.1 - - [05/Nov/2024 01:22:13] \"\u001b[36mGET /static/styles.css HTTP/1.1\u001b[0m\" 304 -\n",
      "127.0.0.1 - - [05/Nov/2024 01:22:13] \"\u001b[36mGET /static/logo.png HTTP/1.1\u001b[0m\" 304 -\n",
      "127.0.0.1 - - [05/Nov/2024 01:22:13] \"\u001b[36mGET /static/fond.webp HTTP/1.1\u001b[0m\" 304 -\n",
      "127.0.0.1 - - [05/Nov/2024 01:22:15] \"GET / HTTP/1.1\" 200 -\n",
      "127.0.0.1 - - [05/Nov/2024 01:22:15] \"\u001b[36mGET /static/logo.png HTTP/1.1\u001b[0m\" 304 -\n",
      "127.0.0.1 - - [05/Nov/2024 01:22:15] \"\u001b[36mGET /static/styles.css HTTP/1.1\u001b[0m\" 304 -\n",
      "127.0.0.1 - - [05/Nov/2024 01:22:15] \"\u001b[36mGET /static/fond.webp HTTP/1.1\u001b[0m\" 304 -\n",
      "127.0.0.1 - - [05/Nov/2024 01:25:30] \"GET / HTTP/1.1\" 200 -\n",
      "127.0.0.1 - - [05/Nov/2024 01:25:30] \"\u001b[36mGET /static/logo.png HTTP/1.1\u001b[0m\" 304 -\n",
      "127.0.0.1 - - [05/Nov/2024 01:25:30] \"\u001b[36mGET /static/styles.css HTTP/1.1\u001b[0m\" 304 -\n",
      "127.0.0.1 - - [05/Nov/2024 01:25:30] \"GET /static/Loading_icon.gif HTTP/1.1\" 200 -\n",
      "127.0.0.1 - - [05/Nov/2024 01:25:30] \"\u001b[36mGET /static/fond.webp HTTP/1.1\u001b[0m\" 304 -\n",
      "127.0.0.1 - - [05/Nov/2024 01:25:41] \"GET / HTTP/1.1\" 200 -\n",
      "127.0.0.1 - - [05/Nov/2024 01:25:41] \"\u001b[36mGET /static/styles.css HTTP/1.1\u001b[0m\" 304 -\n",
      "127.0.0.1 - - [05/Nov/2024 01:25:41] \"\u001b[36mGET /static/Loading_icon.gif HTTP/1.1\u001b[0m\" 304 -\n",
      "127.0.0.1 - - [05/Nov/2024 01:25:41] \"\u001b[36mGET /static/logo.png HTTP/1.1\u001b[0m\" 304 -\n",
      "127.0.0.1 - - [05/Nov/2024 01:25:41] \"\u001b[36mGET /static/fond.webp HTTP/1.1\u001b[0m\" 304 -\n",
      "127.0.0.1 - - [05/Nov/2024 01:25:59] \"\u001b[36mGET /static/styles.css HTTP/1.1\u001b[0m\" 304 -\n",
      "127.0.0.1 - - [05/Nov/2024 01:28:18] \"\u001b[35m\u001b[1mPOST /chat HTTP/1.1\u001b[0m\" 500 -\n",
      "Traceback (most recent call last):\n",
      "  File \"/opt/anaconda3/lib/python3.11/site-packages/flask/app.py\", line 2213, in __call__\n",
      "    return self.wsgi_app(environ, start_response)\n",
      "           ^^^^^^^^^^^^^^^^^^^^^^^^^^^^^^^^^^^^^^\n",
      "  File \"/opt/anaconda3/lib/python3.11/site-packages/flask/app.py\", line 2193, in wsgi_app\n",
      "    response = self.handle_exception(e)\n",
      "               ^^^^^^^^^^^^^^^^^^^^^^^^\n",
      "  File \"/opt/anaconda3/lib/python3.11/site-packages/flask/app.py\", line 2190, in wsgi_app\n",
      "    response = self.full_dispatch_request()\n",
      "               ^^^^^^^^^^^^^^^^^^^^^^^^^^^^\n",
      "  File \"/opt/anaconda3/lib/python3.11/site-packages/flask/app.py\", line 1486, in full_dispatch_request\n",
      "    rv = self.handle_user_exception(e)\n",
      "         ^^^^^^^^^^^^^^^^^^^^^^^^^^^^^\n",
      "  File \"/opt/anaconda3/lib/python3.11/site-packages/flask/app.py\", line 1484, in full_dispatch_request\n",
      "    rv = self.dispatch_request()\n",
      "         ^^^^^^^^^^^^^^^^^^^^^^^\n",
      "  File \"/opt/anaconda3/lib/python3.11/site-packages/flask/app.py\", line 1469, in dispatch_request\n",
      "    return self.ensure_sync(self.view_functions[rule.endpoint])(**view_args)\n",
      "           ^^^^^^^^^^^^^^^^^^^^^^^^^^^^^^^^^^^^^^^^^^^^^^^^^^^^^^^^^^^^^^^^^\n",
      "  File \"/Users/genereux/Documents/UM6P/COURS-S3/TEXT-MINING/Project/01-CHATBOT/app.py\", line 75, in chat\n",
      "    \"sources\": data.get(\"sources\", [query_result.nodes[0].metadata['file_path'], query_result.nodes[1].metadata['file_path']])\n",
      "               ^^^^^^^^^^^^^^^^^^^^^^^^^^^^^^^^^^^^^^^^^^^^^^^^^^^^^^^^^^^^^^^^^^^^^^^^^^^^^^^^^^^^^^^^^^^^^^^^^^^^^^^^^^^^^^^\n",
      "NameError: name 'data' is not defined\n",
      " * Detected change in '/Users/genereux/Documents/UM6P/COURS-S3/TEXT-MINING/Project/01-CHATBOT/.ipynb_checkpoints/app-checkpoint.py', reloading\n",
      " * Restarting with stat\n",
      " * Debugger is active!\n",
      " * Debugger PIN: 130-239-683\n",
      " * Detected change in '/Users/genereux/Documents/UM6P/COURS-S3/TEXT-MINING/Project/01-CHATBOT/app.py', reloading\n",
      " * Restarting with stat\n",
      " * Debugger is active!\n",
      " * Debugger PIN: 130-239-683\n",
      "127.0.0.1 - - [05/Nov/2024 01:33:06] \"GET / HTTP/1.1\" 200 -\n",
      "127.0.0.1 - - [05/Nov/2024 01:33:06] \"\u001b[36mGET /static/Loading_icon.gif HTTP/1.1\u001b[0m\" 304 -\n",
      "127.0.0.1 - - [05/Nov/2024 01:33:06] \"\u001b[36mGET /static/styles.css HTTP/1.1\u001b[0m\" 304 -\n",
      "127.0.0.1 - - [05/Nov/2024 01:33:06] \"\u001b[36mGET /static/logo.png HTTP/1.1\u001b[0m\" 304 -\n",
      "127.0.0.1 - - [05/Nov/2024 01:33:06] \"\u001b[36mGET /static/fond.webp HTTP/1.1\u001b[0m\" 304 -\n",
      "127.0.0.1 - - [05/Nov/2024 01:37:51] \"POST /chat HTTP/1.1\" 200 -\n",
      "127.0.0.1 - - [05/Nov/2024 01:51:06] \"POST /chat HTTP/1.1\" 200 -\n",
      "127.0.0.1 - - [05/Nov/2024 02:00:06] \"POST /chat HTTP/1.1\" 200 -\n",
      "127.0.0.1 - - [05/Nov/2024 02:11:35] \"POST /chat HTTP/1.1\" 200 -\n",
      "127.0.0.1 - - [05/Nov/2024 03:10:53] \"POST /chat HTTP/1.1\" 200 -\n",
      "127.0.0.1 - - [05/Nov/2024 08:45:16] \"POST /chat HTTP/1.1\" 200 -\n",
      "127.0.0.1 - - [05/Nov/2024 09:12:55] \"POST /chat HTTP/1.1\" 200 -\n",
      "127.0.0.1 - - [05/Nov/2024 10:16:15] \"POST /chat HTTP/1.1\" 200 -\n",
      "127.0.0.1 - - [05/Nov/2024 11:03:03] \"POST /chat HTTP/1.1\" 200 -\n",
      "127.0.0.1 - - [05/Nov/2024 11:15:20] \"POST /chat HTTP/1.1\" 200 -\n",
      "127.0.0.1 - - [05/Nov/2024 13:55:44] \"POST /chat HTTP/1.1\" 200 -\n"
     ]
    }
   ],
   "source": [
    "!python 01-CHATBOT/app.py"
   ]
  },
  {
   "cell_type": "code",
   "execution_count": null,
   "id": "0ac64cda-5d74-4ce3-bf3c-7e9606778d98",
   "metadata": {},
   "outputs": [],
   "source": [
    "# DONE WITH LOVE"
   ]
  }
 ],
 "metadata": {
  "kernelspec": {
   "display_name": "Python 3 (ipykernel)",
   "language": "python",
   "name": "python3"
  },
  "language_info": {
   "codemirror_mode": {
    "name": "ipython",
    "version": 3
   },
   "file_extension": ".py",
   "mimetype": "text/x-python",
   "name": "python",
   "nbconvert_exporter": "python",
   "pygments_lexer": "ipython3",
   "version": "3.11.8"
  }
 },
 "nbformat": 4,
 "nbformat_minor": 5
}
